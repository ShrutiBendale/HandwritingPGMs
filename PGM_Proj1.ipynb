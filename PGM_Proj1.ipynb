{
 "cells": [
  {
   "cell_type": "code",
   "execution_count": 177,
   "metadata": {},
   "outputs": [],
   "source": [
    "\n",
    "import numpy as np\n",
    "import pandas as pd\n",
    "import csv\n",
    "from pgmpy.models import BayesianModel\n",
    "from pgmpy.factors.discrete import TabularCPD\n",
    "from pgmpy.estimators import K2Score\n",
    "import networkx as nx\n",
    "import matplotlib.pyplot as plt\n",
    "from IPython.display import Image\n",
    "\n",
    "\n",
    "import warnings\n",
    "import matplotlib.cbook\n",
    "warnings.filterwarnings(\"ignore\",category=matplotlib.cbook.mplDeprecation)\n"
   ]
  },
  {
   "cell_type": "markdown",
   "metadata": {},
   "source": [
    "## Marginal probabilities"
   ]
  },
  {
   "cell_type": "code",
   "execution_count": 178,
   "metadata": {},
   "outputs": [
    {
     "name": "stdout",
     "output_type": "stream",
     "text": [
      "     x1     x2     x3    x4     x5     x6 \n",
      "0  0.780  0.275  0.18  0.715  0.375  0.015\n",
      "1  0.015  0.320  0.66  0.105  0.110  0.320\n",
      "2  0.055  0.025  0.16  0.010  0.105  0.140\n",
      "3  0.150  0.170 -1.00  0.170  0.410  0.315\n",
      "4 -1.000  0.210 -1.00 -1.000 -1.000  0.210\n",
      "     x1 \n",
      "0  0.780\n",
      "1  0.015\n",
      "2  0.055\n",
      "3  0.150\n",
      "     x2 \n",
      "0  0.275\n",
      "1  0.320\n",
      "2  0.025\n",
      "3  0.170\n",
      "4  0.210\n",
      "     x3\n",
      "0  0.18\n",
      "1  0.66\n",
      "2  0.16\n",
      "     x4 \n",
      "0  0.715\n",
      "1  0.105\n",
      "2  0.010\n",
      "3  0.170\n",
      "     x5 \n",
      "0  0.375\n",
      "1  0.110\n",
      "2  0.105\n",
      "3  0.410\n",
      "     x6 \n",
      "0  0.015\n",
      "1  0.320\n",
      "2  0.140\n",
      "3  0.315\n",
      "4  0.210\n"
     ]
    }
   ],
   "source": [
    "cpd1 = pd. read_csv(\"ML1/Table2.csv\")\n",
    "print(cpd1)\n",
    "x1, x2, x3, x4, x5, x6 = cpd1.iloc[:, 0:1], cpd1.iloc[:, 1:2], cpd1.iloc[:, 2:3], cpd1.iloc[:, 3:4], cpd1.iloc[:, 4:5], cpd1.iloc[:, 5:6]\n",
    "x1 = x1.drop(4)\n",
    "x3 = x3.drop([3,4])\n",
    "x4 = x4.drop(4)\n",
    "x5 = x5.drop(4)\n",
    "print(x1)\n",
    "print(x2)\n",
    "print(x3)\n",
    "print(x4)\n",
    "print(x5)\n",
    "print(x6)"
   ]
  },
  {
   "cell_type": "markdown",
   "metadata": {},
   "source": [
    "## Distributions conditioned on x1"
   ]
  },
  {
   "cell_type": "code",
   "execution_count": 179,
   "metadata": {
    "scrolled": true
   },
   "outputs": [
    {
     "name": "stdout",
     "output_type": "stream",
     "text": [
      "    x01    x11    x21   x31\n",
      "0  0.78  0.015  0.055  0.15\n",
      "    x01     x11   x21    x31 \n",
      "0  0.231  0.666  0.455  0.400\n",
      "1  0.365  0.000  0.091  0.200\n",
      "2  0.026  0.000  0.000  0.033\n",
      "3  0.173  0.000  0.182  0.167\n",
      "4  0.205  0.333  0.273  0.200\n",
      "    x01   x11   x21    x31 \n",
      "0  0.737  1.0  0.727  0.567\n",
      "1  0.077  0.0  0.273  0.200\n",
      "2  0.013  0.0  0.000  0.000\n",
      "3  0.173  0.0  0.000  0.233\n",
      "    x01     x11   x21   x31 \n",
      "0  0.019  0.000  0.000   0.0\n",
      "1  0.282  0.666  0.545   0.4\n",
      "2  0.128  0.333  0.091   0.2\n",
      "3  0.352  0.000  0.182   0.2\n",
      "4  0.218  0.000  0.182   0.2\n"
     ]
    }
   ],
   "source": [
    "cpd1 = pd. read_csv(\"ML1/Table3.csv\")\n",
    "cpd1 = cpd1.drop(['x1'], axis=1)\n",
    "x2_x1, x4_x1, x6_x1 = cpd1.iloc[0:5, :], cpd1.iloc[5:9, :], cpd1.iloc[9:, :]\n",
    "x2_x1 = x2_x1.reset_index(drop=True)\n",
    "x4_x1 = x4_x1.reset_index(drop=True)\n",
    "x6_x1 = x6_x1.reset_index(drop=True)\n",
    "x1_total = {'x01': [0.78], 'x11': [0.015], 'x21': [0.055], 'x31': [0.15]}\n",
    "x1_total = pd.DataFrame(x1_total, index=[0])\n",
    "print(x1_total)\n",
    "print(x2_x1)\n",
    "print(x4_x1)\n",
    "print(x6_x1)"
   ]
  },
  {
   "cell_type": "markdown",
   "metadata": {},
   "source": [
    "## Distributions conditioned on x2"
   ]
  },
  {
   "cell_type": "code",
   "execution_count": 180,
   "metadata": {},
   "outputs": [
    {
     "name": "stdout",
     "output_type": "stream",
     "text": [
      "     x02   x12    x22   x32   x42\n",
      "0  0.275  0.32  0.025  0.17  0.21\n",
      "     x02   x12   x22    x32    x42 \n",
      "0  0.127  0.266   0.2  0.176  0.119\n",
      "1  0.745  0.656   0.8  0.706  0.500\n",
      "2  0.127  0.078   0.0  0.118  0.381\n",
      "     x02   x12   x22    x32    x42 \n",
      "0  0.418  0.344   0.6  0.382  0.334\n",
      "1  0.073  0.109   0.4  0.147  0.095\n",
      "2  0.109  0.125   0.0  0.118  0.071\n",
      "3  0.400  0.422   0.0  0.353  0.500\n"
     ]
    }
   ],
   "source": [
    "cpd1 = pd. read_csv(\"ML1/Table4.csv\")\n",
    "# print(cpd1)\n",
    "cpd1 = cpd1.drop(['x2'], axis=1)\n",
    "x3_x2, x5_x2 = cpd1.iloc[0:3, :], cpd1.iloc[3:, :]\n",
    "x3_x2 = x3_x2.reset_index(drop=True)\n",
    "x5_x2 = x5_x2.reset_index(drop=True)\n",
    "x2_total = {'x02': [0.275], 'x12': [0.32], 'x22': [0.025], 'x32': [0.17], 'x42': [0.21]}\n",
    "x2_total = pd.DataFrame(x2_total, index=[0])\n",
    "print(x2_total)\n",
    "print(x3_x2)\n",
    "print(x5_x2)"
   ]
  },
  {
   "cell_type": "markdown",
   "metadata": {},
   "source": [
    "## Distributions conditioned on x3"
   ]
  },
  {
   "cell_type": "code",
   "execution_count": 181,
   "metadata": {},
   "outputs": [
    {
     "name": "stdout",
     "output_type": "stream",
     "text": [
      "    x03   x13   x23\n",
      "0  0.18  0.66  0.16\n",
      "    x03      x13   x23 \n",
      "0  0.194  0.3110  0.219\n",
      "1  0.472  0.3180  0.156\n",
      "2  0.028  0.0303  0.000\n",
      "3  0.167  0.1820  0.125\n",
      "4  0.139  0.1590  0.500\n",
      "    x03     x13   x23 \n",
      "0  0.361  0.394  0.313\n",
      "1  0.083  0.114  0.125\n",
      "2  0.222  0.091  0.031\n",
      "3  0.333  0.402  0.531\n",
      "    x03     x13   x23 \n",
      "0  0.000  0.023  0.000\n",
      "1  0.389  0.318  0.250\n",
      "2  0.083  0.152  0.156\n",
      "3  0.361  0.303  0.313\n",
      "4  0.167  0.205  0.281\n"
     ]
    }
   ],
   "source": [
    "cpd1 = pd. read_csv(\"ML1/Table5.csv\")\n",
    "# print(cpd1)\n",
    "cpd1 = cpd1.drop(['x3'], axis=1)\n",
    "x2_x3, x5_x3, x6_x3 = cpd1.iloc[0:5, :], cpd1.iloc[5:9, :], cpd1.iloc[9:, :]\n",
    "x2_x3 = x2_x3.reset_index(drop=True)\n",
    "x5_x3 = x5_x3.reset_index(drop=True)\n",
    "x6_x3 = x6_x3.reset_index(drop=True)\n",
    "x3_total = {'x03': [0.18], 'x13': [0.66], 'x23': [0.16]}\n",
    "x3_total = pd.DataFrame(x3_total, index=[0])\n",
    "print(x3_total)\n",
    "print(x2_x3)\n",
    "print(x5_x3)\n",
    "print(x6_x3)"
   ]
  },
  {
   "cell_type": "markdown",
   "metadata": {},
   "source": [
    "## Distributions conditioned on x4"
   ]
  },
  {
   "cell_type": "code",
   "execution_count": 182,
   "metadata": {},
   "outputs": [
    {
     "name": "stdout",
     "output_type": "stream",
     "text": [
      "     x04    x14   x24   x34\n",
      "0  0.715  0.105  0.01  0.17\n",
      "    x04    x14   x24     x34\n",
      "0  0.804  0.571   1.0  0.794\n",
      "1  0.021  0.000   0.0  0.000\n",
      "2  0.056  0.143   0.0  0.000\n",
      "3  0.119  0.286   0.0  0.206\n",
      "    x04    x14   x24     x34\n",
      "0  0.322  0.286   1.0  0.323\n",
      "1  0.028  0.000   0.0  0.029\n",
      "2  0.154  0.190   0.0  0.235\n",
      "3  0.196  0.286   0.0  0.235\n",
      "    x04    x14   x24     x34\n",
      "0  0.021  0.000   0.0  0.000\n",
      "1  0.280  0.571   0.0  0.353\n",
      "2  0.154  0.143   0.0  0.088\n",
      "3  0.329  0.190   0.5  0.323\n",
      "4  0.217  0.095   0.5  0.235\n"
     ]
    }
   ],
   "source": [
    "cpd1 = pd. read_csv(\"ML1/Table6.csv\")\n",
    "# print(cpd1)\n",
    "cpd1 = cpd1.drop(['x4'], axis=1)\n",
    "x1_x4, x2_x4, x6_x4 = cpd1.iloc[0:4, :], cpd1.iloc[5:9, :], cpd1.iloc[9:, :]\n",
    "x1_x4 = x1_x4.reset_index(drop=True)\n",
    "x2_x4 = x2_x4.reset_index(drop=True)\n",
    "x6_x4 = x6_x4.reset_index(drop=True)\n",
    "x4_total = {'x04': [0.715], 'x14': [0.105], 'x24': [0.01], 'x34': [0.17]}\n",
    "x4_total = pd.DataFrame(x4_total, index=[0])\n",
    "print(x4_total)\n",
    "print(x1_x4)\n",
    "print(x2_x4)\n",
    "print(x6_x4)"
   ]
  },
  {
   "cell_type": "markdown",
   "metadata": {},
   "source": [
    "## Distributions conditioned on x5"
   ]
  },
  {
   "cell_type": "code",
   "execution_count": 183,
   "metadata": {},
   "outputs": [
    {
     "name": "stdout",
     "output_type": "stream",
     "text": [
      "     x05   x15    x25   x31\n",
      "0  0.375  0.11  0.105  0.41\n",
      "     x05   x15    x25     x35\n",
      "0  0.307  0.182  0.286  0.268\n",
      "1  0.293  0.318  0.381  0.329\n",
      "2  0.040  0.091  0.000  0.000\n",
      "3  0.173  0.227  0.190  0.146\n",
      "4  0.182  0.182  0.143  0.256\n",
      "     x05   x15    x25     x35\n",
      "0  0.173  0.136  0.381  0.146\n",
      "1  0.693  0.682  0.571  0.646\n",
      "2  0.133  0.182  0.048  0.207\n"
     ]
    }
   ],
   "source": [
    "cpd1 = pd. read_csv(\"ML1/Table7.csv\")\n",
    "# print(cpd1)\n",
    "cpd1 = cpd1.drop(['x5'], axis=1)\n",
    "x2_x5, x3_x5 = cpd1.iloc[0:5, :], cpd1.iloc[5:, :]\n",
    "x2_x5 = x2_x5.reset_index(drop=True)\n",
    "x3_x5 = x3_x5.reset_index(drop=True)\n",
    "x5_total = {'x05': [0.375], 'x15': [0.11], 'x25': [0.105], 'x31': [0.41]}\n",
    "x5_total = pd.DataFrame(x5_total, index=[0])\n",
    "print(x5_total)\n",
    "print(x2_x5)\n",
    "print(x3_x5)"
   ]
  },
  {
   "cell_type": "markdown",
   "metadata": {},
   "source": [
    "## Distributions conditioned on x6"
   ]
  },
  {
   "cell_type": "code",
   "execution_count": 184,
   "metadata": {},
   "outputs": [
    {
     "name": "stdout",
     "output_type": "stream",
     "text": [
      "     x06   x16   x26    x36   x46\n",
      "0  0.015  0.32  0.14  0.315  0.21\n",
      "   x06    x16     x26   x36     x46\n",
      "0   1.0  0.687  0.714  0.873  0.809\n",
      "1   0.0  0.031  0.036  0.000  0.000\n",
      "2   0.0  0.094  0.036  0.032  0.048\n",
      "3   0.0  0.187  0.214  0.095  0.143\n",
      "    x06    x16     x26   x36     x46\n",
      "0  0.000  0.281  0.214  0.317  0.262\n",
      "1  0.333  0.296  0.392  0.317  0.309\n",
      "2  0.000  0.000  0.000  0.079  0.000\n",
      "3  0.666  0.234  0.142  0.095  0.167\n",
      "4  0.000  0.187  0.250  0.190  0.262\n",
      "   x06    x16     x26   x36     x46\n",
      "0   0.0  0.218  0.107  0.206  0.143\n",
      "1   1.0  0.656  0.714  0.635  0.643\n",
      "2   0.0  0.125  0.179  0.159  0.214\n",
      "   x06    x16     x26   x36     x46\n",
      "0   1.0  0.625  0.786  0.746  0.738\n",
      "1   0.0  0.187  0.107  0.063  0.048\n",
      "2   0.0  0.000  0.000  0.016  0.024\n",
      "3   0.0  0.187  0.107  0.175  0.190\n"
     ]
    }
   ],
   "source": [
    "cpd1 = pd. read_csv(\"ML1/Table8.csv\")\n",
    "# print(cpd1)\n",
    "cpd1 = cpd1.drop(['x6'], axis=1)\n",
    "x1_x6, x2_x6, x3_x6, x4_x6 = cpd1.iloc[0:4, :], cpd1.iloc[4:9, :], cpd1.iloc[9:12, :], cpd1.iloc[12:, :]\n",
    "x1_x6 = x1_x6.reset_index(drop=True)\n",
    "x2_x6 = x2_x6.reset_index(drop=True)\n",
    "x3_x6 = x3_x6.reset_index(drop=True)\n",
    "x4_x6 = x4_x6.reset_index(drop=True)\n",
    "x6_total = {'x06': [0.015], 'x16': [0.32], 'x26': [0.14], 'x36': [0.315], 'x46': [0.21]}\n",
    "x6_total = pd.DataFrame(x6_total, index=[0])\n",
    "print(x6_total)\n",
    "print(x1_x6)\n",
    "print(x2_x6)\n",
    "print(x3_x6)\n",
    "print(x4_x6)"
   ]
  },
  {
   "cell_type": "markdown",
   "metadata": {},
   "source": [
    "# Task 1: Evaluating correlations and independences "
   ]
  },
  {
   "cell_type": "code",
   "execution_count": 185,
   "metadata": {},
   "outputs": [
    {
     "name": "stdout",
     "output_type": "stream",
     "text": [
      "Entropy for x2|x1 is:  0.15977\n",
      "Entropy for x4|x1 is:  0.11943000000000004\n",
      "Entropy for x6|x1 is:  0.16015500000000005\n"
     ]
    }
   ],
   "source": [
    "\n",
    "dependence = np.zeros((7,7))\n",
    "threshold = 0.14\n",
    "\n",
    "# for dependencies on x1\n",
    "\n",
    "x2_x1 = x2_x1.values\n",
    "x1 = x1.values\n",
    "x2 = x2.values\n",
    "\n",
    "closeness = 0\n",
    "for i in range(0,4):\n",
    "    for j in range(0,5):\n",
    "        closeness += abs( (x2_x1[j][i] * x1[i]) - (x1[i]*x2[j]))   #p(x2,x1) = p(x2|x1) p(x1)\n",
    "print(\"Entropy for x2|x1 is: \", closeness[0] )\n",
    "if closeness[0] > threshold:\n",
    "    dependence[2][1] = 1;  \n",
    "\n",
    "    \n",
    "x4_x1 = x4_x1.values\n",
    "x4 = x4.values\n",
    "\n",
    "closeness = 0\n",
    "for i in range(0,4):\n",
    "    for j in range(0,4):\n",
    "        closeness += abs( (x4_x1[j][i] * x1[i]) - (x1[i]*x4[j]) )\n",
    "print(\"Entropy for x4|x1 is: \", closeness[0] )\n",
    "if closeness[0] > threshold:\n",
    "    dependence[4][1] = 1;\n",
    "\n",
    "\n",
    "x6_x1 = x6_x1.values\n",
    "x6 = x6.values\n",
    "\n",
    "closeness = 0\n",
    "for i in range(0,4):\n",
    "    for j in range(0,5):\n",
    "        closeness += abs( (x6_x1[j][i] * x1[i]) - (x1[i]*x6[j]))   \n",
    "print(\"Entropy for x6|x1 is: \", closeness[0])\n",
    "if closeness[0] > threshold:\n",
    "    dependence[6][1] = 1;\n"
   ]
  },
  {
   "cell_type": "code",
   "execution_count": 186,
   "metadata": {},
   "outputs": [
    {
     "name": "stdout",
     "output_type": "stream",
     "text": [
      "Entropy for x3|x2 is:  0.21852500000000002\n",
      "Entropy for x5|x2 is:  0.12926000000000004\n"
     ]
    }
   ],
   "source": [
    "# for dependencies on x2\n",
    "\n",
    "x3_x2 = x3_x2.values\n",
    "x3 = x3.values\n",
    "\n",
    "closeness = 0\n",
    "for i in range(0,5):\n",
    "    for j in range(0,3):\n",
    "        closeness += abs((x3_x2[j][i] * x2[i]) - (x3[j]*x2[i]))   \n",
    "print(\"Entropy for x3|x2 is: \", closeness[0])\n",
    "if closeness[0] > threshold:\n",
    "    dependence[3][2] = 1;\n",
    "\n",
    "\n",
    "x5_x2 = x5_x2.values\n",
    "x5 = x5.values\n",
    "\n",
    "closeness = 0\n",
    "for i in range(0,5):\n",
    "    for j in range(0,4):\n",
    "        closeness += abs((x5_x2[j][i] * x2[i]) - (x5[j]*x2[i]))   \n",
    "print(\"Entropy for x5|x2 is: \", closeness[0] )\n",
    "if closeness[0] > threshold:\n",
    "    dependence[5][2] = 1;"
   ]
  },
  {
   "cell_type": "code",
   "execution_count": 187,
   "metadata": {},
   "outputs": [
    {
     "name": "stdout",
     "output_type": "stream",
     "text": [
      "Entropy for x2|x3 is:  0.21875800000000006\n",
      "Entropy for x5|x3 is:  0.11551999999999997\n",
      "Entropy for x6|x3 is:  0.09498000000000002\n"
     ]
    }
   ],
   "source": [
    "# for dependencies on x3\n",
    "\n",
    "x2_x3 = x2_x3.values\n",
    "\n",
    "closeness = 0\n",
    "for i in range(0,3):\n",
    "    for j in range(0,5):\n",
    "        closeness += abs( (x2_x3[j][i] * x3[i]) - (x2[j]*x3[i]))   \n",
    "print(\"Entropy for x2|x3 is: \", closeness[0] )\n",
    "if closeness[0] > threshold:\n",
    "    dependence[2][3] = 1;\n",
    "\n",
    "\n",
    "x5_x3 = x5_x3.values\n",
    "\n",
    "closeness = 0\n",
    "for i in range(0,3):\n",
    "    for j in range(0,4):\n",
    "        closeness += abs((x5_x3[j][i] * x3[i]) - (x5[j]*x3[i]))   \n",
    "print(\"Entropy for x5|x3 is: \", closeness[0] )\n",
    "if closeness[0] > threshold:\n",
    "    dependence[5][3] = 1;\n",
    "    \n",
    "\n",
    "x6_x3 = x6_x3.values\n",
    "\n",
    "closeness = 0\n",
    "for i in range(0,3):\n",
    "    for j in range(0,5):\n",
    "        closeness += abs( (x6_x3[j][i] * x3[i]) - (x6[j]*x3[i]))   \n",
    "print(\"Entropy for x6|x3 is: \", closeness[0] )\n",
    "if closeness[0] > threshold:\n",
    "    dependence[5][3] = 1;"
   ]
  },
  {
   "cell_type": "code",
   "execution_count": 188,
   "metadata": {
    "scrolled": true
   },
   "outputs": [
    {
     "name": "stdout",
     "output_type": "stream",
     "text": [
      "Entropy for x1|x4 is:  0.11957000000000002\n",
      "Entropy for x2|x4 is:  0.53425\n",
      "Entropy for x6|x4 is:  0.11923999999999993\n"
     ]
    }
   ],
   "source": [
    "# for dependencies on x4\n",
    "\n",
    "x1_x4 = x1_x4.values\n",
    "\n",
    "closeness = 0\n",
    "for i in range(0,4):\n",
    "    for j in range(0,4):\n",
    "        closeness += abs( (x1_x4[j][i] * x4[i]) - (x1[j]*x4[i]))   \n",
    "print(\"Entropy for x1|x4 is: \", closeness[0] )\n",
    "if closeness[0] > threshold:\n",
    "    dependence[1][4] = 1;\n",
    "    \n",
    "\n",
    "x2_x4 = x2_x4.values\n",
    "\n",
    "closeness = 0\n",
    "for i in range(0,4):\n",
    "    for j in range(0,4):\n",
    "        closeness += abs( (x2_x4[j][i] * x4[i]) - (x2[j]*x4[i]))   \n",
    "print(\"Entropy for x2|x4 is: \", closeness[0] )\n",
    "if closeness[0] > threshold:\n",
    "    dependence[2][4] = 1;\n",
    "\n",
    "\n",
    "x6_x4 = x6_x4.values\n",
    "\n",
    "closeness = 0\n",
    "for i in range(0,4):\n",
    "    for j in range(0,4):\n",
    "        closeness += abs( (x6_x4[j][i] * x4[i]) - (x6[j]*x4[i]))   \n",
    "print(\"Entropy for x6|x4 is: \", closeness[0] )\n",
    "if closeness[0] > threshold:\n",
    "    dependence[6][4] = 1;"
   ]
  },
  {
   "cell_type": "code",
   "execution_count": 189,
   "metadata": {},
   "outputs": [
    {
     "name": "stdout",
     "output_type": "stream",
     "text": [
      "Entropy for x2|x5 is:  0.13126499999999997\n",
      "Entropy for x3|x5 is:  0.11596500000000005\n"
     ]
    }
   ],
   "source": [
    "# for dependencies on x5\n",
    "\n",
    "x2_x5 = x2_x5.values\n",
    "\n",
    "closeness = 0\n",
    "for i in range(0,4):\n",
    "    for j in range(0,5):\n",
    "        closeness += abs( (x2_x5[j][i] * x5[i]) - (x2[j]*x5[i]))   \n",
    "print(\"Entropy for x2|x5 is: \", closeness[0] )\n",
    "if closeness[0] > threshold:\n",
    "    dependence[2][5] = 1;\n",
    "\n",
    "\n",
    "x3_x5 = x3_x5.values\n",
    "\n",
    "closeness = 0\n",
    "for i in range(0,4):\n",
    "    for j in range(0,3):\n",
    "        closeness += abs( (x3_x5[j][i] * x5[i]) - (x3[j]*x5[i]))   \n",
    "print(\"Entropy for x3|x5 is: \", closeness[0] )\n",
    "if closeness[0] > threshold:\n",
    "    dependence[3][5] = 1;"
   ]
  },
  {
   "cell_type": "code",
   "execution_count": 190,
   "metadata": {},
   "outputs": [
    {
     "name": "stdout",
     "output_type": "stream",
     "text": [
      "Entropy for x1|x6 is:  0.16036999999999996\n",
      "Entropy for x2|x6 is:  0.17531500000000003\n",
      "Entropy for x3|x6 is:  0.09434000000000006\n",
      "Entropy for x4|x6 is:  0.14307000000000003\n"
     ]
    }
   ],
   "source": [
    "# for dependencies on x6\n",
    "\n",
    "x1_x6 = x1_x6.values\n",
    "\n",
    "closeness = 0\n",
    "for i in range(0,5):\n",
    "    for j in range(0,4):\n",
    "        closeness += abs( (x1_x6[j][i] * x6[i]) - (x1[j]*x6[i]))   \n",
    "print(\"Entropy for x1|x6 is: \", closeness[0] )\n",
    "if closeness[0] > threshold:\n",
    "    dependence[1][6] = 1;\n",
    "\n",
    "\n",
    "x2_x6 = x2_x6.values\n",
    "\n",
    "closeness = 0\n",
    "for i in range(0,5):\n",
    "    for j in range(0,5):\n",
    "        closeness += abs( (x2_x6[j][i] * x6[i]) - (x2[j]*x6[i]))   \n",
    "print(\"Entropy for x2|x6 is: \", closeness[0] )\n",
    "if closeness[0] > threshold:\n",
    "    dependence[2][6] = 1;\n",
    "\n",
    "\n",
    "x3_x6 = x3_x6.values\n",
    "\n",
    "closeness = 0\n",
    "for i in range(0,5):\n",
    "    for j in range(0,3):\n",
    "        closeness += abs( (x3_x6[j][i] * x6[i]) - (x3[j]*x6[i]))   \n",
    "print(\"Entropy for x3|x6 is: \", closeness[0] )\n",
    "if closeness[0] > threshold:\n",
    "    dependence[3][6] = 1;\n",
    "\n",
    "\n",
    "x4_x6 = x4_x6.values\n",
    "\n",
    "closeness = 0\n",
    "for i in range(0,5):\n",
    "    for j in range(0,4):\n",
    "        closeness += abs( (x4_x6[j][i] * x6[i]) - (x4[j]*x6[i]))   \n",
    "print(\"Entropy for x4|x6 is: \", closeness[0] )\n",
    "if closeness[0] > threshold:\n",
    "    dependence[4][6] = 1;"
   ]
  },
  {
   "cell_type": "markdown",
   "metadata": {},
   "source": [
    "# Task 2: Constructing the Bayesian Network "
   ]
  },
  {
   "cell_type": "code",
   "execution_count": 191,
   "metadata": {
    "scrolled": true
   },
   "outputs": [
    {
     "name": "stdout",
     "output_type": "stream",
     "text": [
      "Let the threshold be 0.14\n",
      "x 2  depends on  x 1\n",
      "x 6  depends on  x 1\n",
      "x 3  depends on  x 2\n",
      "x 2  depends on  x 3\n",
      "x 2  depends on  x 4\n",
      "x 1  depends on  x 6\n",
      "x 2  depends on  x 6\n",
      "x 4  depends on  x 6\n"
     ]
    }
   ],
   "source": [
    "print(\"Let the threshold be\",threshold)\n",
    "#print(dependence)\n",
    "for i in range (1,7):\n",
    "    for j in range (1,7):\n",
    "        if dependence[j][i] == 1:\n",
    "            print(\"x\", j , \" depends on  x\" , i)\n",
    "            \n",
    "K2Scores = np.zeros((6))"
   ]
  },
  {
   "cell_type": "code",
   "execution_count": 192,
   "metadata": {},
   "outputs": [
    {
     "data": {
      "image/png": "[encoded data removed]",
      "text/plain": [
       "<Figure size 432x288 with 1 Axes>"
      ]
     },
     "metadata": {},
     "output_type": "display_data"
    },
    {
     "name": "stdout",
     "output_type": "stream",
     "text": [
      "Model 1 K2 Score: -31637.394209334245\n"
     ]
    }
   ],
   "source": [
    "from pgmpy.sampling import BayesianModelSampling\n",
    "\n",
    "model1 = BayesianModel([('x3', 'x2'), ('x3', 'x6'), ('x6', 'x1'), ('x6', 'x4'), ('x2', 'x5')])\n",
    "\n",
    "cpd_x3 = TabularCPD(variable=\"x3\",variable_card=3,values=x3)\n",
    "cpd_x6_x3 = TabularCPD(variable=\"x6\",variable_card=5,values=x6_x3, evidence=[\"x3\"],evidence_card=[3])\n",
    "cpd_x2_x3 = TabularCPD(variable=\"x2\",variable_card=5,values=x2_x3, evidence=[\"x3\"],evidence_card=[3])\n",
    "cpd_x5_x2 = TabularCPD(variable=\"x5\",variable_card=4,values=x5_x2, evidence=[\"x2\"],evidence_card=[5])\n",
    "cpd_x4_x6 = TabularCPD(variable=\"x4\",variable_card=4,values=x4_x6, evidence=[\"x6\"],evidence_card=[5])\n",
    "cpd_x1_x6 = TabularCPD(variable=\"x1\",variable_card=4,values=x1_x6, evidence=[\"x6\"],evidence_card=[5])\n",
    "\n",
    "model1.add_cpds(cpd_x3,cpd_x6_x3,cpd_x2_x3,cpd_x5_x2,cpd_x4_x6,cpd_x1_x6)\n",
    "\n",
    "nx.draw(model1, with_labels=True)\n",
    "plt.show()\n",
    "\n",
    "# Bayesian Sampling\n",
    "inference1 = BayesianModelSampling(model1)\n",
    "\n",
    "data1 = inference1.forward_sample(size=5000)\n",
    "# print(data1)\n",
    "\n",
    "k2_model1 = K2Score(data1)\n",
    "print('Model 1 K2 Score: ' + str(k2_model1.score(model1)))\n",
    "K2Scores[1] = str(k2_model1.score(model1))\n",
    "# print(K2Scores)"
   ]
  },
  {
   "cell_type": "code",
   "execution_count": 193,
   "metadata": {},
   "outputs": [
    {
     "data": {
      "image/png": "[encoded data removed]",
      "text/plain": [
       "<Figure size 432x288 with 1 Axes>"
      ]
     },
     "metadata": {},
     "output_type": "display_data"
    },
    {
     "name": "stdout",
     "output_type": "stream",
     "text": [
      "Model 2 K2 Score: -6454.381192177223\n"
     ]
    }
   ],
   "source": [
    "from pgmpy.sampling import BayesianModelSampling\n",
    "\n",
    "model2 = BayesianModel([('x6', 'x1'), ('x6', 'x4'), ('x1', 'x2'), ('x2', 'x3'), ('x2', 'x5')])\n",
    "\n",
    "cpd_x6 = TabularCPD(variable=\"x6\",variable_card=5,values=x6)\n",
    "cpd_x4_x6 = TabularCPD(variable=\"x4\",variable_card=4,values=x4_x6, evidence=[\"x6\"],evidence_card=[5])\n",
    "cpd_x1_x6 = TabularCPD(variable=\"x1\",variable_card=4,values=x1_x6, evidence=[\"x6\"],evidence_card=[5])\n",
    "cpd_x2_x1 = TabularCPD(variable=\"x2\",variable_card=5,values=x2_x1, evidence=[\"x1\"],evidence_card=[4])\n",
    "cpd_x3_x2 = TabularCPD(variable=\"x3\",variable_card=3,values=x3_x2, evidence=[\"x2\"],evidence_card=[5])\n",
    "cpd_x5_x2 = TabularCPD(variable=\"x5\",variable_card=4,values=x5_x2, evidence=[\"x2\"],evidence_card=[5])\n",
    "\n",
    "model2.add_cpds(cpd_x6,cpd_x4_x6,cpd_x1_x6,cpd_x2_x1,cpd_x3_x2,cpd_x5_x2)\n",
    "\n",
    "nx.draw(model2, with_labels=True)\n",
    "plt.show()\n",
    "\n",
    "# Bayesian Sampling\n",
    "inference2 = BayesianModelSampling(model2)\n",
    "\n",
    "data2 = inference2.forward_sample(size=1000)\n",
    "# print(data2)\n",
    "\n",
    "k2_model2 = K2Score(data2)\n",
    "print('Model 2 K2 Score: ' + str(k2_model2.score(model2)))\n",
    "K2Scores[2] = str(k2_model2.score(model2))\n",
    "# print(K2Scores)"
   ]
  },
  {
   "cell_type": "code",
   "execution_count": 194,
   "metadata": {},
   "outputs": [
    {
     "data": {
      "image/png": "[encoded data removed]",
      "text/plain": [
       "<Figure size 432x288 with 1 Axes>"
      ]
     },
     "metadata": {},
     "output_type": "display_data"
    },
    {
     "name": "stdout",
     "output_type": "stream",
     "text": [
      "Model 3 K2 Score: -6450.72510606309\n"
     ]
    }
   ],
   "source": [
    "from pgmpy.sampling import BayesianModelSampling\n",
    "\n",
    "model3 = BayesianModel([('x3', 'x6'), ('x3', 'x2'), ('x3', 'x5'), ('x6', 'x1'), ('x6', 'x4')])\n",
    "\n",
    "cpd_x3 = TabularCPD(variable=\"x3\",variable_card=3,values=x3)\n",
    "cpd_x2_x3 = TabularCPD(variable=\"x2\",variable_card=5,values=x2_x3, evidence=[\"x3\"],evidence_card=[3])\n",
    "cpd_x6_x3 = TabularCPD(variable=\"x6\",variable_card=5,values=x6_x3, evidence=[\"x3\"],evidence_card=[3])\n",
    "cpd_x5_x3 = TabularCPD(variable=\"x5\",variable_card=4,values=x5_x3, evidence=[\"x3\"],evidence_card=[3])\n",
    "cpd_x1_x6 = TabularCPD(variable=\"x1\",variable_card=4,values=x1_x6, evidence=[\"x6\"],evidence_card=[5])\n",
    "cpd_x4_x6 = TabularCPD(variable=\"x4\",variable_card=4,values=x4_x6, evidence=[\"x6\"],evidence_card=[5])\n",
    "\n",
    "model3.add_cpds(cpd_x3,cpd_x2_x3,cpd_x6_x3,cpd_x5_x3,cpd_x1_x6,cpd_x4_x6)\n",
    "\n",
    "nx.draw(model3, with_labels=True)\n",
    "plt.show()\n",
    "\n",
    "# Bayesian Sampling\n",
    "inference3 = BayesianModelSampling(model3)\n",
    "\n",
    "data3 = inference3.forward_sample(size=1000)\n",
    "# print(data3)\n",
    "\n",
    "k2_model3 = K2Score(data3)\n",
    "print('Model 3 K2 Score: ' + str(k2_model3.score(model3)))\n",
    "K2Scores[3] = str(k2_model3.score(model3))\n",
    "# print(K2Scores)"
   ]
  },
  {
   "cell_type": "code",
   "execution_count": 195,
   "metadata": {},
   "outputs": [
    {
     "data": {
      "image/png": "[encoded data removed]",
      "text/plain": [
       "<Figure size 432x288 with 1 Axes>"
      ]
     },
     "metadata": {},
     "output_type": "display_data"
    },
    {
     "name": "stdout",
     "output_type": "stream",
     "text": [
      "Model 4 K2 Score: -6372.160442577957\n"
     ]
    }
   ],
   "source": [
    "from pgmpy.sampling import BayesianModelSampling\n",
    "\n",
    "model4 = BayesianModel([('x5', 'x3'), ('x3', 'x2'), ('x3', 'x6'), ('x6', 'x4'), ('x6', 'x1')])\n",
    "\n",
    "cpd_x5 = TabularCPD(variable=\"x5\",variable_card=4,values=x5)\n",
    "cpd_x3_x5 = TabularCPD(variable=\"x3\",variable_card=3,values=x3_x5, evidence=[\"x5\"],evidence_card=[4])\n",
    "cpd_x2_x3 = TabularCPD(variable=\"x2\",variable_card=5,values=x2_x3, evidence=[\"x3\"],evidence_card=[3])\n",
    "cpd_x6_x3 = TabularCPD(variable=\"x6\",variable_card=5,values=x6_x3, evidence=[\"x3\"],evidence_card=[3])\n",
    "cpd_x1_x6 = TabularCPD(variable=\"x1\",variable_card=4,values=x1_x6, evidence=[\"x6\"],evidence_card=[5])\n",
    "cpd_x4_x6 = TabularCPD(variable=\"x4\",variable_card=4,values=x4_x6, evidence=[\"x6\"],evidence_card=[5])\n",
    "\n",
    "model4.add_cpds(cpd_x5,cpd_x3_x5,cpd_x2_x3,cpd_x6_x3,cpd_x1_x6,cpd_x4_x6)\n",
    "\n",
    "nx.draw(model4, with_labels=True)\n",
    "plt.show()\n",
    "\n",
    "# Bayesian Sampling\n",
    "inference4 = BayesianModelSampling(model4)\n",
    "\n",
    "data4 = inference4.forward_sample(size=1000)\n",
    "# print(data4)\n",
    "\n",
    "k2_model4 = K2Score(data4)\n",
    "print('Model 4 K2 Score: ' + str(k2_model4.score(model4)))\n",
    "K2Scores[4] = str(k2_model4.score(model4))\n",
    "# print(K2Scores)"
   ]
  },
  {
   "cell_type": "code",
   "execution_count": 196,
   "metadata": {},
   "outputs": [
    {
     "data": {
      "image/png": "[encoded data removed]",
      "text/plain": [
       "<Figure size 432x288 with 1 Axes>"
      ]
     },
     "metadata": {},
     "output_type": "display_data"
    },
    {
     "name": "stdout",
     "output_type": "stream",
     "text": [
      "Model 5 K2 Score: -6400.304762834137\n",
      "\n",
      " \n",
      " K2 scores:\n",
      "[     0.         -31637.39420933  -6454.38119218  -6450.72510606\n",
      "  -6372.16044258  -6400.30476283]\n"
     ]
    }
   ],
   "source": [
    "from pgmpy.sampling import BayesianModelSampling\n",
    "\n",
    "model5 = BayesianModel([('x2', 'x3'), ('x2', 'x5'), ('x3', 'x6'), ('x6', 'x1'), ('x1', 'x4')])\n",
    "\n",
    "cpd_x2 = TabularCPD(variable=\"x2\",variable_card=5,values=x2)\n",
    "cpd_x3_x2 = TabularCPD(variable=\"x3\",variable_card=3,values=x3_x2, evidence=[\"x2\"],evidence_card=[5])\n",
    "cpd_x5_x2 = TabularCPD(variable=\"x5\",variable_card=4,values=x5_x2, evidence=[\"x2\"],evidence_card=[5])\n",
    "cpd_x6_x3 = TabularCPD(variable=\"x6\",variable_card=5,values=x6_x3, evidence=[\"x3\"],evidence_card=[3])\n",
    "cpd_x1_x6 = TabularCPD(variable=\"x1\",variable_card=4,values=x1_x6, evidence=[\"x6\"],evidence_card=[5])\n",
    "cpd_x4_x1 = TabularCPD(variable=\"x4\",variable_card=4,values=x4_x1, evidence=[\"x1\"],evidence_card=[4])\n",
    "\n",
    "model5.add_cpds(cpd_x2,cpd_x3_x2,cpd_x5_x2,cpd_x6_x3,cpd_x1_x6,cpd_x4_x1)\n",
    "\n",
    "nx.draw(model5, with_labels=True)\n",
    "plt.show()\n",
    "\n",
    "# Bayesian Sampling\n",
    "inference5 = BayesianModelSampling(model5)\n",
    "\n",
    "data5 = inference5.forward_sample(size=1000)\n",
    "# print(data5)\n",
    "\n",
    "k2_model5 = K2Score(data5)\n",
    "print('Model 5 K2 Score: ' + str(k2_model5.score(model5)))\n",
    "K2Scores[5] = str(k2_model5.score(model5))\n",
    "print(\"\\n \\n K2 scores:\")\n",
    "print(K2Scores)"
   ]
  },
  {
   "cell_type": "markdown",
   "metadata": {},
   "source": [
    "## Best model and inferences"
   ]
  },
  {
   "cell_type": "code",
   "execution_count": 197,
   "metadata": {},
   "outputs": [
    {
     "name": "stdout",
     "output_type": "stream",
     "text": [
      "The best bayesian model is model 4\n",
      "high probability th is : \n",
      "x5        0\n",
      "x3        1\n",
      "x2        1\n",
      "x6        3\n",
      "x4        0\n",
      "x1        0\n",
      "count    21\n",
      "Name: 67, dtype: int64\n",
      "\n",
      "low probability th is : \n",
      "x5       0\n",
      "x3       0\n",
      "x2       0\n",
      "x6       1\n",
      "x4       3\n",
      "x1       0\n",
      "count    1\n",
      "Name: 1, dtype: int64\n"
     ]
    }
   ],
   "source": [
    "max = -10000000\n",
    "model_no = 0\n",
    "\n",
    "for i in range(1,6):\n",
    "    if(K2Scores[i]>max):\n",
    "        max = K2Scores[i]\n",
    "        model_no = i\n",
    "        \n",
    "print(\"The best bayesian model is model \" + str(model_no))\n",
    "best_model = eval(\"model\" + str(model_no))\n",
    "best_data = eval(\"data\" + str(model_no))\n",
    "\n",
    "countIncluded = best_data.groupby(best_data.columns.tolist()).size().reset_index().rename(columns={0:'count'})\n",
    "print(\"high probability th is : \")\n",
    "print(countIncluded.iloc[countIncluded['count'].idxmax()])\n",
    "print()\n",
    "print(\"low probability th is : \")\n",
    "print(countIncluded.iloc[countIncluded['count'].idxmin()])\n",
    "\n"
   ]
  },
  {
   "cell_type": "markdown",
   "metadata": {},
   "source": [
    "## Task 3: Convertiing to Markov model and comparing the inferences"
   ]
  },
  {
   "cell_type": "code",
   "execution_count": 198,
   "metadata": {},
   "outputs": [
    {
     "name": "stdout",
     "output_type": "stream",
     "text": [
      "The markov model is:\n",
      "[('x5', 'x3'), ('x3', 'x2'), ('x3', 'x6'), ('x6', 'x4'), ('x6', 'x1')]\n"
     ]
    },
    {
     "data": {
      "image/png": "[encoded data removed]",
      "text/plain": [
       "<Figure size 432x288 with 1 Axes>"
      ]
     },
     "metadata": {},
     "output_type": "display_data"
    },
    {
     "name": "stdout",
     "output_type": "stream",
     "text": [
      "high probability th is : \n",
      "x5        0\n",
      "x3        1\n",
      "x2        0\n",
      "x6        3\n",
      "x4        0\n",
      "x1        0\n",
      "count    20\n",
      "Name: 45, dtype: int64\n",
      "\n",
      "low probability th is : \n",
      "x5       0\n",
      "x3       0\n",
      "x2       0\n",
      "x6       1\n",
      "x4       0\n",
      "x1       2\n",
      "count    1\n",
      "Name: 1, dtype: int64\n"
     ]
    }
   ],
   "source": [
    "from pgmpy.sampling import GibbsSampling\n",
    "\n",
    "print(\"The markov model is:\")\n",
    "model4_markov = best_model.to_markov_model()\n",
    "print(model4_markov.edges())\n",
    "\n",
    "inference_markov = GibbsSampling(model4_markov)\n",
    "data_markov = inference_markov.sample(size=1000, return_type='dataframe')\n",
    "\n",
    "nx.draw(model4_markov, with_labels = True)\n",
    "plt.show()\n",
    "\n",
    "countIncluded = data_markov.groupby(data_markov.columns.tolist()).size().reset_index().rename(columns={0:'count'})\n",
    "print(\"high probability th is : \")\n",
    "\n",
    "# print(\"row = \" + str(countIncluded['count'].idxmax()) + \" count = \" + str(max(countIncluded['count'])))\n",
    "print(countIncluded.iloc[countIncluded['count'].idxmax()])\n",
    "print()\n",
    "print(\"low probability th is : \")\n",
    "# print(\"row = \" + str(countIncluded['count'].idxmin()) + \" count = \" + str(min(countIncluded['count'])))\n",
    "print(countIncluded.iloc[countIncluded['count'].idxmin()])\n",
    "\n"
   ]
  },
  {
   "cell_type": "markdown",
   "metadata": {},
   "source": [
    "## Task 4: Bayesian and Markov network using the 'and' dataset"
   ]
  },
  {
   "cell_type": "code",
   "execution_count": 204,
   "metadata": {
    "scrolled": false
   },
   "outputs": [
    {
     "name": "stdout",
     "output_type": "stream",
     "text": [
      "\n",
      " \n",
      " The best bayesian network is:\n",
      "[('f3', 'f4'), ('f3', 'f9'), ('f3', 'f8'), ('f5', 'f9'), ('f5', 'f3'), ('f9', 'f8'), ('f9', 'f7'), ('f9', 'f1'), ('f9', 'f6'), ('f9', 'f2'), ('f9', 'f4')]\n"
     ]
    },
    {
     "data": {
      "image/png": "[encoded data removed]",
      "text/plain": [
       "<Figure size 432x288 with 1 Axes>"
      ]
     },
     "metadata": {},
     "output_type": "display_data"
    },
    {
     "name": "stdout",
     "output_type": "stream",
     "text": [
      "K2 Score: -9462.704892371386\n",
      "\n",
      "\n",
      "CPD table for f1: \n",
      " +-------+---------------------+---------------------+\n",
      "| f9    | f9(1)               | f9(2)               |\n",
      "+-------+---------------------+---------------------+\n",
      "| f1(0) | 0.19823788546255505 | 0.10638297872340426 |\n",
      "+-------+---------------------+---------------------+\n",
      "| f1(1) | 0.44933920704845814 | 0.26032540675844806 |\n",
      "+-------+---------------------+---------------------+\n",
      "| f1(2) | 0.2643171806167401  | 0.3692115143929912  |\n",
      "+-------+---------------------+---------------------+\n",
      "| f1(3) | 0.0881057268722467  | 0.2640801001251564  |\n",
      "+-------+---------------------+---------------------+\n",
      "\n",
      " \n",
      " The markov network is:\n",
      "[('f3', 'f4'), ('f3', 'f9'), ('f3', 'f8'), ('f3', 'f5'), ('f4', 'f9'), ('f9', 'f8'), ('f9', 'f7'), ('f9', 'f1'), ('f9', 'f6'), ('f9', 'f2'), ('f9', 'f5')]\n"
     ]
    },
    {
     "data": {
      "image/png": "[encoded data removed]",
      "text/plain": [
       "<Figure size 432x288 with 1 Axes>"
      ]
     },
     "metadata": {},
     "output_type": "display_data"
    }
   ],
   "source": [
    "from pgmpy.estimators import HillClimbSearch\n",
    "from pgmpy.estimators import BdeuScore, K2Score, BicScore\n",
    "from pgmpy.estimators import MaximumLikelihoodEstimator\n",
    "\n",
    "and_data = pd. read_csv(\"ML1/AND-Features.csv\")\n",
    "and_data = and_data.drop(['Unnamed: 0', 'img_id'], axis=1)\n",
    "# print(and_data)\n",
    "\n",
    "#Getting the best Bayesian model using the hill climbing search\n",
    "\n",
    "hc = HillClimbSearch(and_data, scoring_method=K2Score(and_data))\n",
    "best_model = hc.estimate()\n",
    "and_model = BayesianModel(best_model.edges())\n",
    "\n",
    "print(\"\\n \\n The best bayesian network is:\")\n",
    "print(best_model.edges())\n",
    "nx.draw(and_model, with_labels = True)\n",
    "plt.show()\n",
    "\n",
    "k2_and = K2Score(and_data)\n",
    "print('K2 Score: ' + str(k2_and.score(and_model)))\n",
    "\n",
    "#Generating the CPDs\n",
    "cpds = MaximumLikelihoodEstimator(and_model, and_data)\n",
    "print(\"\\n\\nCPD table for f1: \\n\", cpds.estimate_cpd('f1'))\n",
    "# cpd = cpds.get_parameters()\n",
    "\n",
    "\n",
    "# for i in cpd:\n",
    "#     print(i)\n",
    "\n",
    "\n",
    "print(\"\\n \\n The markov network is:\")\n",
    "and_markov = and_model.to_markov_model()\n",
    "print(and_markov.edges())\n",
    "\n",
    "nx.draw(and_markov, with_labels = True)\n",
    "plt.show()"
   ]
  },
  {
   "cell_type": "code",
   "execution_count": null,
   "metadata": {},
   "outputs": [],
   "source": []
  },
  {
   "cell_type": "code",
   "execution_count": null,
   "metadata": {},
   "outputs": [],
   "source": []
  },
  {
   "cell_type": "code",
   "execution_count": null,
   "metadata": {},
   "outputs": [],
   "source": []
  },
  {
   "cell_type": "code",
   "execution_count": null,
   "metadata": {},
   "outputs": [],
   "source": []
  },
  {
   "cell_type": "code",
   "execution_count": null,
   "metadata": {},
   "outputs": [],
   "source": []
  },
  {
   "cell_type": "code",
   "execution_count": null,
   "metadata": {},
   "outputs": [],
   "source": []
  }
 ],
 "metadata": {
  "kernelspec": {
   "display_name": "Python 3",
   "language": "python",
   "name": "python3"
  },
  "language_info": {
   "codemirror_mode": {
    "name": "ipython",
    "version": 3
   },
   "file_extension": ".py",
   "mimetype": "text/x-python",
   "name": "python",
   "nbconvert_exporter": "python",
   "pygments_lexer": "ipython3",
   "version": "3.7.1"
  }
 },
 "nbformat": 4,
 "nbformat_minor": 2
}
